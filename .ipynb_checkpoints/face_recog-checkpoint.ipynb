{
 "cells": [
  {
   "cell_type": "code",
   "execution_count": 5,
   "metadata": {},
   "outputs": [
    {
     "ename": "ModuleNotFoundError",
     "evalue": "No module named 'face_recognition'",
     "output_type": "error",
     "traceback": [
      "\u001b[1;31m---------------------------------------------------------------------------\u001b[0m",
      "\u001b[1;31mModuleNotFoundError\u001b[0m                       Traceback (most recent call last)",
      "\u001b[1;32m<ipython-input-5-ca17cc6b8bdb>\u001b[0m in \u001b[0;36m<module>\u001b[1;34m\u001b[0m\n\u001b[1;32m----> 1\u001b[1;33m \u001b[1;32mimport\u001b[0m \u001b[0mface_recognition\u001b[0m\u001b[1;33m\u001b[0m\u001b[1;33m\u001b[0m\u001b[0m\n\u001b[0m",
      "\u001b[1;31mModuleNotFoundError\u001b[0m: No module named 'face_recognition'"
     ]
    }
   ],
   "source": [
    "import face_recognition"
   ]
  },
  {
   "cell_type": "code",
   "execution_count": 6,
   "metadata": {},
   "outputs": [
    {
     "name": "stdout",
     "output_type": "stream",
     "text": [
      "Collecting face-recognition\n",
      "  Using cached face_recognition-1.3.0-py2.py3-none-any.whl (15 kB)\n",
      "Requirement already satisfied: Pillow in c:\\users\\vamsee\\anaconda3\\lib\\site-packages (from face-recognition) (8.3.1)\n",
      "Collecting dlib>=19.7\n",
      "  Using cached dlib-19.22.1.tar.gz (7.4 MB)Note: you may need to restart the kernel to use updated packages.\n"
     ]
    },
    {
     "name": "stderr",
     "output_type": "stream",
     "text": [
      "WARNING: Ignoring invalid distribution -illow (c:\\users\\vamsee\\anaconda3\\lib\\site-packages)\n",
      "WARNING: Ignoring invalid distribution -illow (c:\\users\\vamsee\\anaconda3\\lib\\site-packages)\n",
      "  ERROR: Command errored out with exit status 1:\n",
      "   command: 'C:\\Users\\vamsee\\anaconda3\\python.exe' -u -c 'import io, os, sys, setuptools, tokenize; sys.argv[0] = '\"'\"'C:\\\\Users\\\\vamsee\\\\AppData\\\\Local\\\\Temp\\\\pip-install-atlya_vj\\\\dlib_df854b2934bd4174b85b14c84c0e484a\\\\setup.py'\"'\"'; __file__='\"'\"'C:\\\\Users\\\\vamsee\\\\AppData\\\\Local\\\\Temp\\\\pip-install-atlya_vj\\\\dlib_df854b2934bd4174b85b14c84c0e484a\\\\setup.py'\"'\"';f = getattr(tokenize, '\"'\"'open'\"'\"', open)(__file__) if os.path.exists(__file__) else io.StringIO('\"'\"'from setuptools import setup; setup()'\"'\"');code = f.read().replace('\"'\"'\\r\\n'\"'\"', '\"'\"'\\n'\"'\"');f.close();exec(compile(code, __file__, '\"'\"'exec'\"'\"'))' bdist_wheel -d 'C:\\Users\\vamsee\\AppData\\Local\\Temp\\pip-wheel-df4wizjx'\n",
      "       cwd: C:\\Users\\vamsee\\AppData\\Local\\Temp\\pip-install-atlya_vj\\dlib_df854b2934bd4174b85b14c84c0e484a\\\n",
      "  Complete output (8 lines):\n",
      "  running bdist_wheel\n",
      "  running build\n",
      "  running build_py\n",
      "  package init file 'tools\\python\\dlib\\__init__.py' not found (or not a regular file)\n",
      "  running build_ext\n",
      "  \n",
      "  ERROR: CMake must be installed to build dlib\n",
      "  \n",
      "  ----------------------------------------\n"
     ]
    },
    {
     "name": "stdout",
     "output_type": "stream",
     "text": [
      "\n",
      "Requirement already satisfied: numpy in c:\\users\\vamsee\\anaconda3\\lib\\site-packages (from face-recognition) (1.19.5)\n",
      "Requirement already satisfied: Click>=6.0 in c:\\users\\vamsee\\anaconda3\\lib\\site-packages (from face-recognition) (7.1.2)\n",
      "Requirement already satisfied: face-recognition-models>=0.3.0 in c:\\users\\vamsee\\anaconda3\\lib\\site-packages (from face-recognition) (0.3.0)\n",
      "Building wheels for collected packages: dlib\n",
      "  Building wheel for dlib (setup.py): started\n",
      "  Building wheel for dlib (setup.py): finished with status 'error'\n",
      "  Running setup.py clean for dlib\n",
      "Failed to build dlib\n",
      "Installing collected packages: dlib, face-recognition\n",
      "    Running setup.py install for dlib: started\n",
      "    Running setup.py install for dlib: finished with status 'error'\n"
     ]
    },
    {
     "name": "stderr",
     "output_type": "stream",
     "text": [
      "  ERROR: Failed building wheel for dlib\n",
      "WARNING: Ignoring invalid distribution -illow (c:\\users\\vamsee\\anaconda3\\lib\\site-packages)\n",
      "    ERROR: Command errored out with exit status 1:\n",
      "     command: 'C:\\Users\\vamsee\\anaconda3\\python.exe' -u -c 'import io, os, sys, setuptools, tokenize; sys.argv[0] = '\"'\"'C:\\\\Users\\\\vamsee\\\\AppData\\\\Local\\\\Temp\\\\pip-install-atlya_vj\\\\dlib_df854b2934bd4174b85b14c84c0e484a\\\\setup.py'\"'\"'; __file__='\"'\"'C:\\\\Users\\\\vamsee\\\\AppData\\\\Local\\\\Temp\\\\pip-install-atlya_vj\\\\dlib_df854b2934bd4174b85b14c84c0e484a\\\\setup.py'\"'\"';f = getattr(tokenize, '\"'\"'open'\"'\"', open)(__file__) if os.path.exists(__file__) else io.StringIO('\"'\"'from setuptools import setup; setup()'\"'\"');code = f.read().replace('\"'\"'\\r\\n'\"'\"', '\"'\"'\\n'\"'\"');f.close();exec(compile(code, __file__, '\"'\"'exec'\"'\"'))' install --record 'C:\\Users\\vamsee\\AppData\\Local\\Temp\\pip-record-l0haguu7\\install-record.txt' --single-version-externally-managed --compile --install-headers 'C:\\Users\\vamsee\\anaconda3\\Include\\dlib'\n",
      "         cwd: C:\\Users\\vamsee\\AppData\\Local\\Temp\\pip-install-atlya_vj\\dlib_df854b2934bd4174b85b14c84c0e484a\\\n",
      "    Complete output (8 lines):\n",
      "    running install\n",
      "    running build\n",
      "    running build_py\n",
      "    package init file 'tools\\python\\dlib\\__init__.py' not found (or not a regular file)\n",
      "    running build_ext\n",
      "    \n",
      "    ERROR: CMake must be installed to build dlib\n",
      "    \n",
      "    ----------------------------------------\n",
      "ERROR: Command errored out with exit status 1: 'C:\\Users\\vamsee\\anaconda3\\python.exe' -u -c 'import io, os, sys, setuptools, tokenize; sys.argv[0] = '\"'\"'C:\\\\Users\\\\vamsee\\\\AppData\\\\Local\\\\Temp\\\\pip-install-atlya_vj\\\\dlib_df854b2934bd4174b85b14c84c0e484a\\\\setup.py'\"'\"'; __file__='\"'\"'C:\\\\Users\\\\vamsee\\\\AppData\\\\Local\\\\Temp\\\\pip-install-atlya_vj\\\\dlib_df854b2934bd4174b85b14c84c0e484a\\\\setup.py'\"'\"';f = getattr(tokenize, '\"'\"'open'\"'\"', open)(__file__) if os.path.exists(__file__) else io.StringIO('\"'\"'from setuptools import setup; setup()'\"'\"');code = f.read().replace('\"'\"'\\r\\n'\"'\"', '\"'\"'\\n'\"'\"');f.close();exec(compile(code, __file__, '\"'\"'exec'\"'\"'))' install --record 'C:\\Users\\vamsee\\AppData\\Local\\Temp\\pip-record-l0haguu7\\install-record.txt' --single-version-externally-managed --compile --install-headers 'C:\\Users\\vamsee\\anaconda3\\Include\\dlib' Check the logs for full command output.\n",
      "WARNING: Ignoring invalid distribution -illow (c:\\users\\vamsee\\anaconda3\\lib\\site-packages)\n",
      "WARNING: You are using pip version 21.1.3; however, version 21.3.1 is available.\n",
      "You should consider upgrading via the 'C:\\Users\\vamsee\\anaconda3\\python.exe -m pip install --upgrade pip' command.\n"
     ]
    }
   ],
   "source": [
    "pip install face-recognition"
   ]
  },
  {
   "cell_type": "code",
   "execution_count": 4,
   "metadata": {},
   "outputs": [
    {
     "name": "stdout",
     "output_type": "stream",
     "text": [
      "Note: you may need to restart the kernel to use updated packages.Using pip 21.1.3 from C:\\Users\\vamsee\\AppData\\Roaming\\Python\\Python38\\site-packages\\pip (python 3.8)\n",
      "Non-user install because site-packages writeable\n",
      "Created temporary directory: C:\\Users\\vamsee\\AppData\\Local\\Temp\\pip-ephem-wheel-cache-w_4u4jgt\n",
      "\n",
      "Created temporary directory: C:\\Users\\vamsee\\AppData\\Local\\Temp\\pip-req-tracker-nuxzi13z\n",
      "Initialized build tracking at C:\\Users\\vamsee\\AppData\\Local\\Temp\\pip-req-tracker-nuxzi13z\n",
      "Created build tracker: C:\\Users\\vamsee\\AppData\\Local\\Temp\\pip-req-tracker-nuxzi13z\n",
      "Entered build tracker: C:\\Users\\vamsee\\AppData\\Local\\Temp\\pip-req-tracker-nuxzi13z\n",
      "Created temporary directory: C:\\Users\\vamsee\\AppData\\Local\\Temp\\pip-install-p2rmr5xp\n"
     ]
    },
    {
     "name": "stderr",
     "output_type": "stream",
     "text": [
      "C:\\Users\\vamsee\\AppData\\Roaming\\Python\\Python38\\site-packages\\pip\\_internal\\commands\\install.py:232: UserWarning: Disabling all use of wheels due to the use of --build-option / --global-option / --install-option.\n",
      "  cmdoptions.check_install_build_global(options)\n",
      "WARNING: Ignoring invalid distribution -illow (c:\\users\\vamsee\\anaconda3\\lib\\site-packages)\n",
      "WARNING: Ignoring invalid distribution -illow (c:\\users\\vamsee\\anaconda3\\lib\\site-packages)\n",
      "    Running command python setup.py egg_info\n",
      "    running egg_info\n",
      "    creating C:\\Users\\vamsee\\AppData\\Local\\Temp\\pip-pip-egg-info-8v2m6kjt\\dlib.egg-info\n",
      "    writing C:\\Users\\vamsee\\AppData\\Local\\Temp\\pip-pip-egg-info-8v2m6kjt\\dlib.egg-info\\PKG-INFO\n",
      "    writing dependency_links to C:\\Users\\vamsee\\AppData\\Local\\Temp\\pip-pip-egg-info-8v2m6kjt\\dlib.egg-info\\dependency_links.txt\n",
      "    writing top-level names to C:\\Users\\vamsee\\AppData\\Local\\Temp\\pip-pip-egg-info-8v2m6kjt\\dlib.egg-info\\top_level.txt\n",
      "    writing manifest file 'C:\\Users\\vamsee\\AppData\\Local\\Temp\\pip-pip-egg-info-8v2m6kjt\\dlib.egg-info\\SOURCES.txt'\n",
      "    package init file 'tools\\python\\dlib\\__init__.py' not found (or not a regular file)\n",
      "    reading manifest file 'C:\\Users\\vamsee\\AppData\\Local\\Temp\\pip-pip-egg-info-8v2m6kjt\\dlib.egg-info\\SOURCES.txt'\n",
      "    reading manifest template 'MANIFEST.in'\n",
      "    no previously-included directories found matching 'tools\\python\\build*'\n",
      "    no previously-included directories found matching 'dlib\\cmake_utils\\*\\build*'\n",
      "    no previously-included directories found matching 'dlib\\test'\n",
      "    warning: no previously-included files matching '*.pyc' found anywhere in distribution\n",
      "    writing manifest file 'C:\\Users\\vamsee\\AppData\\Local\\Temp\\pip-pip-egg-info-8v2m6kjt\\dlib.egg-info\\SOURCES.txt'\n",
      "WARNING: Ignoring invalid distribution -illow (c:\\users\\vamsee\\anaconda3\\lib\\site-packages)\n",
      "    Running command 'C:\\Users\\vamsee\\anaconda3\\python.exe' -u -c 'import io, os, sys, setuptools, tokenize; sys.argv[0] = '\"'\"'C:\\\\Users\\\\vamsee\\\\AppData\\\\Local\\\\Temp\\\\pip-install-p2rmr5xp\\\\dlib_f486aac1b12e4bd4ada0e8ba3fd262ad\\\\setup.py'\"'\"'; __file__='\"'\"'C:\\\\Users\\\\vamsee\\\\AppData\\\\Local\\\\Temp\\\\pip-install-p2rmr5xp\\\\dlib_f486aac1b12e4bd4ada0e8ba3fd262ad\\\\setup.py'\"'\"';f = getattr(tokenize, '\"'\"'open'\"'\"', open)(__file__) if os.path.exists(__file__) else io.StringIO('\"'\"'from setuptools import setup; setup()'\"'\"');code = f.read().replace('\"'\"'\\r\\n'\"'\"', '\"'\"'\\n'\"'\"');f.close();exec(compile(code, __file__, '\"'\"'exec'\"'\"'))' install --record 'C:\\Users\\vamsee\\AppData\\Local\\Temp\\pip-record-hoet0bl9\\install-record.txt' --single-version-externally-managed --compile --install-headers 'C:\\Users\\vamsee\\anaconda3\\Include\\dlib' --no DLIB_USE_CUDA\n",
      "    running install\n",
      "    running build\n",
      "    running build_py\n",
      "    package init file 'tools\\python\\dlib\\__init__.py' not found (or not a regular file)\n",
      "    running build_ext\n",
      "\n",
      "    ERROR: CMake must be installed to build dlib\n",
      "\n",
      "ERROR: Command errored out with exit status 1: 'C:\\Users\\vamsee\\anaconda3\\python.exe' -u -c 'import io, os, sys, setuptools, tokenize; sys.argv[0] = '\"'\"'C:\\\\Users\\\\vamsee\\\\AppData\\\\Local\\\\Temp\\\\pip-install-p2rmr5xp\\\\dlib_f486aac1b12e4bd4ada0e8ba3fd262ad\\\\setup.py'\"'\"'; __file__='\"'\"'C:\\\\Users\\\\vamsee\\\\AppData\\\\Local\\\\Temp\\\\pip-install-p2rmr5xp\\\\dlib_f486aac1b12e4bd4ada0e8ba3fd262ad\\\\setup.py'\"'\"';f = getattr(tokenize, '\"'\"'open'\"'\"', open)(__file__) if os.path.exists(__file__) else io.StringIO('\"'\"'from setuptools import setup; setup()'\"'\"');code = f.read().replace('\"'\"'\\r\\n'\"'\"', '\"'\"'\\n'\"'\"');f.close();exec(compile(code, __file__, '\"'\"'exec'\"'\"'))' install --record 'C:\\Users\\vamsee\\AppData\\Local\\Temp\\pip-record-hoet0bl9\\install-record.txt' --single-version-externally-managed --compile --install-headers 'C:\\Users\\vamsee\\anaconda3\\Include\\dlib' --no DLIB_USE_CUDA Check the logs for full command output."
     ]
    },
    {
     "name": "stdout",
     "output_type": "stream",
     "text": [
      "1 location(s) to search for versions of dlib:\n",
      "* https://pypi.org/simple/dlib/\n",
      "Fetching project page and analyzing links: https://pypi.org/simple/dlib/\n",
      "Getting page https://pypi.org/simple/dlib/\n",
      "Found index url https://pypi.org/simple\n",
      "Looking up \"https://pypi.org/simple/dlib/\" in the cache\n",
      "Request header has \"max_age\" as 0, cache bypassed\n",
      "Starting new HTTPS connection (1): pypi.org:443\n",
      "https://pypi.org:443 \"GET /simple/dlib/ HTTP/1.1\" 304 0\n",
      "  Skipping link: No binaries permitted for dlib: https://files.pythonhosted.org/packages/76/44/d5ea0c2cfbbce3c12841de8e29ba97e305c585b98c70f8e8f1cb69855f1f/dlib-18.17.100-cp27-none-win32.whl#sha256=23523a686049ff8b9a17f1e932e70c8c563ea77a2aecdc686db7632dd5742d35 (from https://pypi.org/simple/dlib/)\n",
      "  Skipping link: No binaries permitted for dlib: https://files.pythonhosted.org/packages/8b/b5/0a1f8e3cc709b845b2fb5592e0576c6194bd735519c779e6a98bf3b0f5c4/dlib-18.17.100-cp27-none-win_amd64.whl#sha256=ca70fc1eaf74176e50fa0fc90565dd7be14b7552a3d616c026099a8b2574155c (from https://pypi.org/simple/dlib/)\n",
      "  Skipping link: No binaries permitted for dlib: https://files.pythonhosted.org/packages/9e/b7/5c53db22828707d629e1a94326e14e1bb703b975352e4de427695e9c5d00/dlib-18.17.100-cp34-none-win32.whl#sha256=118039c043b1efc2d9e8e1c4b055b972358951d7770f9b61af59c8690053303f (from https://pypi.org/simple/dlib/)\n",
      "  Skipping link: No binaries permitted for dlib: https://files.pythonhosted.org/packages/66/1f/e1259d07929742e9df98e33bf315f48618809185a8a56a69cc2fd75031a2/dlib-18.17.100-cp34-none-win_amd64.whl#sha256=951b58000285d9ca41b1110af26cb96148d5059dc215fed8ce1df14c978809a2 (from https://pypi.org/simple/dlib/)\n",
      "  Skipping link: No binaries permitted for dlib: https://files.pythonhosted.org/packages/e5/41/0818d66f938601f000f28b97967ae6d9f33b43b8b96e092f1873f4a6860b/dlib-18.17.100-cp35-none-win32.whl#sha256=1acf5e51ef4e5af67cb2f2eda4df3eee772c7e476611803a96330886160e34a4 (from https://pypi.org/simple/dlib/)\n",
      "  Skipping link: No binaries permitted for dlib: https://files.pythonhosted.org/packages/30/91/ffef19ef1dcbe36fa1fd3d1e01e7cf8177a9edd1a13f51877f8f4623c132/dlib-18.17.100-cp35-none-win_amd64.whl#sha256=31d06be6c398a85edfaf496ce43beadd0270193cf76855f4a23cba2e6691e7f7 (from https://pypi.org/simple/dlib/)\n",
      "  Found link https://files.pythonhosted.org/packages/2e/63/801499a0aa588ac29b3400477848caa43e6cbb76af3c1568fcd4b0c21cfd/dlib-18.17.100.zip#sha256=cf73a059caee158f1b1cb18c1a21020bea19311afc6dbacb2417b05ff4bf89d5 (from https://pypi.org/simple/dlib/), version: 18.17.100\n",
      "  Found link https://files.pythonhosted.org/packages/98/04/a42d2b901f2c456f86f3c8ace36e3df64d21d7f368b1cac468489205e850/dlib-19.0.0.tar.gz#sha256=f12433b9202c0a6aa2e730fe9784f984082d439a0eee4cb57074b9c02cf596f4 (from https://pypi.org/simple/dlib/), version: 19.0.0\n",
      "  Skipping link: No binaries permitted for dlib: https://files.pythonhosted.org/packages/19/e8/737eae439647f953aa1afe2f25ee88ff3399eb3c936e809f63e197e14036/dlib-19.1.0-cp35-cp35m-win_amd64.whl#sha256=a59fcc5e87ff01365e6d0711c5e3ae7676d12b8777c7a3c367e869dc9f921013 (from https://pypi.org/simple/dlib/)\n",
      "  Found link https://files.pythonhosted.org/packages/24/e5/af6b0a964ff4b726146128ab4f9cd67293426357c7399effab8240d2b8be/dlib-19.1.0.tar.gz#sha256=4e7a38d823daf42675082d0341f039510562aba09ac7689aa56ceb53d7d9e7cb (from https://pypi.org/simple/dlib/), version: 19.1.0\n",
      "  Skipping link: No binaries permitted for dlib: https://files.pythonhosted.org/packages/33/e9/a93e58de8dc08c117c37be7598a850e9142dae3c6e385186956a35a621a5/dlib-19.3.1-cp35-cp35m-win_amd64.whl#sha256=e3b402628eca04575b69295c225180d703354ff468712e3252f1708bcc737499 (from https://pypi.org/simple/dlib/)\n",
      "  Found link https://files.pythonhosted.org/packages/f7/3b/0969f13461e6ad84db58a6885c00725a6d97ed8c16b78470d11cc5f1f5de/dlib-19.3.1.tar.gz#sha256=0f35259d9da0ed24e3aefb4ad475045d469ffbf6a256dfa26edf59bbd4ac8670 (from https://pypi.org/simple/dlib/), version: 19.3.1\n",
      "  Skipping link: No binaries permitted for dlib: https://files.pythonhosted.org/packages/38/18/92fc25855307bcf582a30034ae657fda205de4f29773323bb388e592f17c/dlib-19.4.0-cp35-cp35m-win_amd64.whl#sha256=67e7d86eedaef650788b058d9e086198ead583f5bb3041fd9a431ae50658e9f4 (from https://pypi.org/simple/dlib/)\n",
      "  Found link https://files.pythonhosted.org/packages/1d/76/0f91fde37a83a40cf27e6cabd900b975c2667c522a07ae38e31cda2fa486/dlib-19.4.0.tar.gz#sha256=c23c172dd42d7bf703392e2ba6414e986e8ff5e3be1f848f0f1d1733fc0895b8 (from https://pypi.org/simple/dlib/), version: 19.4.0\n",
      "  Found link https://files.pythonhosted.org/packages/82/68/3c471ddd73afb1378eee507d765bf186e724e8bc81eb44501a99345d89c7/dlib-19.5.0.tar.gz#sha256=b5896c7a51992441eac605395e07f2b31548376cadc1f392d93f69c821e6552e (from https://pypi.org/simple/dlib/), version: 19.5.0\n",
      "  Skipping link: No binaries permitted for dlib: https://files.pythonhosted.org/packages/24/ea/81e4fc5b978277899b1c1a63ff358f1f645f9369e59d9b5d9cc1d57c007c/dlib-19.5.1-cp36-cp36m-win_amd64.whl#sha256=7739535b76eb40cbcf49ba98d894894d06ee0b6e8f18a25fef2ab302fd5401c7 (from https://pypi.org/simple/dlib/)\n",
      "  Found link https://files.pythonhosted.org/packages/47/0c/4cef6abe23eb20ebbc9d7be66a15da21f3997f49a48b415d30a14e5586f0/dlib-19.5.1.tar.gz#sha256=d2920ec5ad68a621da9da37a50664bb8bebb19510a83630d5d7c4808419c9c88 (from https://pypi.org/simple/dlib/), version: 19.5.1\n",
      "  Skipping link: No binaries permitted for dlib: https://files.pythonhosted.org/packages/5b/fa/65bad0783fe624f463ec3c46c0bc062d281ee33c032b3047d99ffcefc9f5/dlib-19.6.0-cp36-cp36m-win_amd64.whl#sha256=cf352921cf8ec79f3ff85868f70e6397bcbd41a265acbb410f00bf9342e28d19 (from https://pypi.org/simple/dlib/)\n",
      "  Found link https://files.pythonhosted.org/packages/3f/2f/2f433c62b56842fc1c3b7855269ca95a6d9757caaa47d6b20f93f13f45c3/dlib-19.6.0.tar.gz#sha256=97c0804a2a86bf8343729b74eea0b6f4985e048353c71eda6b62cb9e8cc5e1fe (from https://pypi.org/simple/dlib/), version: 19.6.0\n",
      "  Skipping link: No binaries permitted for dlib: https://files.pythonhosted.org/packages/3c/97/e8e15bb7288c77085c130f9495f4a884a80a5c9f4634392cdae0aa8f53fe/dlib-19.6.1-cp36-cp36m-win_amd64.whl#sha256=aaa195c7820c3b301f74e5a7322d45101b2667ca8ccd5fc3085fd340e7cd3b68 (from https://pypi.org/simple/dlib/)\n",
      "  Found link https://files.pythonhosted.org/packages/e2/b3/8f689f96b6f2b1f66b6d8d0f91d5b1eb69a7f6a202869e64b0ff6ef74a06/dlib-19.6.1.tar.gz#sha256=43c30681eed2bbccb17a33558f84075150dfe2483aa3bbd9e3b9472b9eb4e212 (from https://pypi.org/simple/dlib/), version: 19.6.1\n",
      "  Skipping link: No binaries permitted for dlib: https://files.pythonhosted.org/packages/da/06/bd3e241c4eb0a662914b3b4875fc52dd176a9db0d4a2c915ac2ad8800e9e/dlib-19.7.0-cp36-cp36m-win_amd64.whl#sha256=d71c78dce0f7614e05b92518cf4ad654af9e8bfc9e15dea6af3c4dbb306bcd09 (from https://pypi.org/simple/dlib/)\n",
      "  Found link https://files.pythonhosted.org/packages/e2/79/6aba1d2b3f9fbcf34d583188d8ff6818952ea875dceedf7c34a869637573/dlib-19.7.0.tar.gz#sha256=8728d820094f8df4a7c66fa5d8b4c944921ae79c56a094e33f2684122133fe6d (from https://pypi.org/simple/dlib/), version: 19.7.0\n"
     ]
    },
    {
     "name": "stderr",
     "output_type": "stream",
     "text": [
      "\n",
      "WARNING: Ignoring invalid distribution -illow (c:\\users\\vamsee\\anaconda3\\lib\\site-packages)\n",
      "WARNING: You are using pip version 21.1.3; however, version 21.3.1 is available.\n",
      "You should consider upgrading via the 'C:\\Users\\vamsee\\anaconda3\\python.exe -m pip install --upgrade pip' command.\n"
     ]
    },
    {
     "name": "stdout",
     "output_type": "stream",
     "text": [
      "  Found link https://files.pythonhosted.org/packages/9b/f4/8d13ff6d9c8520f96760780375af135ae0832325607690d84a367706f1e7/dlib-19.8.0.tar.gz#sha256=f541e1c33f1f74c2b84f348f4e18fb890540cb3ca3916fc9a4f7034e77ed2376 (from https://pypi.org/simple/dlib/), version: 19.8.0\n",
      "  Skipping link: No binaries permitted for dlib: https://files.pythonhosted.org/packages/0e/ce/f8a3cff33ac03a8219768f0694c5d703c8e037e6aba2e865f9bae22ed63c/dlib-19.8.1-cp36-cp36m-win_amd64.whl#sha256=794994fa2c54e7776659fddb148363a5556468a6d5d46be8dad311722d54bfcf (from https://pypi.org/simple/dlib/)\n",
      "  Found link https://files.pythonhosted.org/packages/eb/99/6e2334b09bf48493b243a0fcb60a60659c847f86cecc1c2a7839609f88eb/dlib-19.8.1.tar.gz#sha256=a0dd66c4027bdcd5b1b385d51ae04d549f937c8939b546a4b937642e658715a1 (from https://pypi.org/simple/dlib/), version: 19.8.1\n",
      "  Found link https://files.pythonhosted.org/packages/92/7f/7711bf4bb25c7e8ff1c450bf397302d4b75e55abe6de54c75cc05a7b17db/dlib-19.8.2.tar.gz#sha256=3027573c53a4c797c829e38a9a161f224e1d600b7969290795cfedd28f8976dc (from https://pypi.org/simple/dlib/), version: 19.8.2\n",
      "  Found link https://files.pythonhosted.org/packages/23/7a/891d4c46cdf755fb69eec0f06a53033d3754bf68ace5342ad56aeb540aa1/dlib-19.9.0.tar.gz#sha256=33a9ec8b6e9fcf0538003d019d97968dc7601f2aaa60304a6146cf0f834259da (from https://pypi.org/simple/dlib/), version: 19.9.0\n",
      "  Found link https://files.pythonhosted.org/packages/54/ff/5781a11bdc0d1c90a813f3f66d460abf628e5114856a842d18d43f709a7a/dlib-19.10.0.tar.gz#sha256=d253701b7c17bf87e77055ca1fca551bda9e700fe90d61d27c72c5848237637e (from https://pypi.org/simple/dlib/), version: 19.10.0\n",
      "  Found link https://files.pythonhosted.org/packages/f2/02/dbffb7023494e1e39981ca65010b27501e844a0c8e79e1a3034ad8bf3734/dlib-19.12.0.tar.gz#sha256=3cd3a9cf0d8eae5f6bd7f4e87cf70eee1593e65a516f08a4712340a89f69d23e (from https://pypi.org/simple/dlib/), version: 19.12.0\n",
      "  Found link https://files.pythonhosted.org/packages/79/26/8ef2835606b4b37f704862b2db55edb89675daca0b82718244fca718cddd/dlib-19.13.0.tar.gz#sha256=8a6199a8903e625afa6b67be66b511b79bf2099981e0e0daae15c59c6a3e6c5e (from https://pypi.org/simple/dlib/), version: 19.13.0\n",
      "  Found link https://files.pythonhosted.org/packages/d5/5c/aa64510aa354d562ecba7edecd500b020280741140e5d91ff5ec1c6f8289/dlib-19.13.1.tar.gz#sha256=1d53739f4fa892874e61bb9602850d8d0afe8fbfb9262ff21981f594719384ed (from https://pypi.org/simple/dlib/), version: 19.13.1\n",
      "  Found link https://files.pythonhosted.org/packages/97/08/0d2b53b3845d562d01108e482ae45596a0d13bf58c63172df954ff0b53ef/dlib-19.14.0.tar.gz#sha256=88470836cb649b380f6f9eca054f08a94b115ee2845b1eccbf8a410efb2e3dc1 (from https://pypi.org/simple/dlib/), version: 19.14.0\n",
      "  Found link https://files.pythonhosted.org/packages/df/aa/6a9bb2a763107bb2606d6ee1aa65fcd3b51375a9ef6436e9c9280b0dd63c/dlib-19.15.0.tar.gz#sha256=ad5e9e6276d1486b8ef7383229379d759f155f7d2c703e67e3d84682fb2a93c5 (from https://pypi.org/simple/dlib/), version: 19.15.0\n",
      "  Found link https://files.pythonhosted.org/packages/35/8d/e4ddf60452e2fb1ce3164f774e68968b3f110f1cb4cd353235d56875799e/dlib-19.16.0.tar.gz#sha256=d1f167054cec10987094861468df9c2c63b07cd97693809bd22e634d62215b26 (from https://pypi.org/simple/dlib/), version: 19.16.0\n",
      "  Found link https://files.pythonhosted.org/packages/05/57/e8a8caa3c89a27f80bc78da39c423e2553f482a3705adc619176a3a24b36/dlib-19.17.0.tar.gz#sha256=92587c81b0165e933593f505fdf099dface0d0f8ec874b1d8655fc774598911f (from https://pypi.org/simple/dlib/), version: 19.17.0\n",
      "  Found link https://files.pythonhosted.org/packages/1e/62/aacb236d21fbd08148b1d517d58a9d80ea31bdcd386d26f21f8b23b1eb28/dlib-19.18.0.tar.gz#sha256=8ca127253a0ca82a3d847148515f82ff2c504ed77a6385ec4f38c7f8e5360860 (from https://pypi.org/simple/dlib/), version: 19.18.0\n",
      "  Found link https://files.pythonhosted.org/packages/63/92/05c3b98636661cb80d190a5a777dd94effcc14c0f6893222e5ca81e74fbc/dlib-19.19.0.tar.gz#sha256=d0eeaca07bc4c75973ad0f739a541d8fa4003af778f0dc1c2c595d470823819a (from https://pypi.org/simple/dlib/), version: 19.19.0\n",
      "  Found link https://files.pythonhosted.org/packages/f1/40/e407366816646bb452578997e6ca2140f004eec8f611e8512ee429ded2be/dlib-19.20.0.tar.gz#sha256=a3f5070df590c3f510dde2f4c84b1b20e3ef64a02932ed657da490834ecac7e4 (from https://pypi.org/simple/dlib/), version: 19.20.0\n",
      "  Found link https://files.pythonhosted.org/packages/a4/7b/2f7f29f460629a8143b2deea1911e2fb1d9d88d29bf645ba321461588e88/dlib-19.21.0.tar.gz#sha256=e79d8e14171b8446d6b5434d7dc3b44a23ca05c8f99266acaf731cc7b268edb6 (from https://pypi.org/simple/dlib/), version: 19.21.0\n",
      "  Found link https://files.pythonhosted.org/packages/99/2c/ef681c1c717ace11040f9e99fe22dafc843cdd6085eb6120e7ab2a5c662b/dlib-19.21.1.tar.gz#sha256=6c461e1e9e03d35a569163a41500381806a449bb34a06f18700bd7658aed8c8d (from https://pypi.org/simple/dlib/), version: 19.21.1\n",
      "  Found link https://files.pythonhosted.org/packages/11/93/ec41d6ef7e769977aa08e49441c52276da27859f12dcbf1c6deb96ce5e9f/dlib-19.22.0.tar.gz#sha256=b5f5fe43ad19a821903aad786381e5b51a9d219527148fd604e719b398e84108 (from https://pypi.org/simple/dlib/), version: 19.22.0\n",
      "  Found link https://files.pythonhosted.org/packages/f0/a2/ba6163c09fb427990180afd8d625bcecc5555af699c253193c35ffd48c4f/dlib-19.22.1.tar.gz#sha256=77e943b40cc53e377d7fc683552d2337937f1111c46d7753105f594c3958163c (from https://pypi.org/simple/dlib/), version: 19.22.1\n",
      "Skipping link: not a file: https://pypi.org/simple/dlib/\n",
      "Given no hashes to check 29 links for project 'dlib': discarding no candidates\n",
      "Collecting dlib\n",
      "  Created temporary directory: C:\\Users\\vamsee\\AppData\\Local\\Temp\\pip-unpack-h0xx08g1\n",
      "  Looking up \"https://files.pythonhosted.org/packages/f0/a2/ba6163c09fb427990180afd8d625bcecc5555af699c253193c35ffd48c4f/dlib-19.22.1.tar.gz\" in the cache\n",
      "  Current age based on date: 183\n",
      "  Ignoring unknown cache-control directive: immutable\n",
      "  Freshness lifetime from max-age: 365000000\n",
      "  The response is \"fresh\", returning cached response\n",
      "  365000000 > 183\n",
      "  Using cached dlib-19.22.1.tar.gz (7.4 MB)\n",
      "  Added dlib from https://files.pythonhosted.org/packages/f0/a2/ba6163c09fb427990180afd8d625bcecc5555af699c253193c35ffd48c4f/dlib-19.22.1.tar.gz#sha256=77e943b40cc53e377d7fc683552d2337937f1111c46d7753105f594c3958163c to build tracker 'C:\\\\Users\\\\vamsee\\\\AppData\\\\Local\\\\Temp\\\\pip-req-tracker-nuxzi13z'\n",
      "    Running setup.py (path:C:\\Users\\vamsee\\AppData\\Local\\Temp\\pip-install-p2rmr5xp\\dlib_f486aac1b12e4bd4ada0e8ba3fd262ad\\setup.py) egg_info for package dlib\n",
      "    Created temporary directory: C:\\Users\\vamsee\\AppData\\Local\\Temp\\pip-pip-egg-info-8v2m6kjt\n",
      "  Source in c:\\users\\vamsee\\appdata\\local\\temp\\pip-install-p2rmr5xp\\dlib_f486aac1b12e4bd4ada0e8ba3fd262ad has version 19.22.1, which satisfies requirement dlib from https://files.pythonhosted.org/packages/f0/a2/ba6163c09fb427990180afd8d625bcecc5555af699c253193c35ffd48c4f/dlib-19.22.1.tar.gz#sha256=77e943b40cc53e377d7fc683552d2337937f1111c46d7753105f594c3958163c\n",
      "  Removed dlib from https://files.pythonhosted.org/packages/f0/a2/ba6163c09fb427990180afd8d625bcecc5555af699c253193c35ffd48c4f/dlib-19.22.1.tar.gz#sha256=77e943b40cc53e377d7fc683552d2337937f1111c46d7753105f594c3958163c from build tracker 'C:\\\\Users\\\\vamsee\\\\AppData\\\\Local\\\\Temp\\\\pip-req-tracker-nuxzi13z'\n",
      "Created temporary directory: C:\\Users\\vamsee\\AppData\\Local\\Temp\\pip-unpack-xgjhcx92\n",
      "Skipping wheel build for dlib, due to binaries being disabled for it.\n",
      "Installing collected packages: dlib\n",
      "  Created temporary directory: C:\\Users\\vamsee\\AppData\\Local\\Temp\\pip-record-hoet0bl9\n",
      "    Running setup.py install for dlib: started\n",
      "    Running setup.py install for dlib: finished with status 'error'\n",
      "Exception information:\n",
      "Traceback (most recent call last):\n",
      "  File \"C:\\Users\\vamsee\\AppData\\Roaming\\Python\\Python38\\site-packages\\pip\\_internal\\req\\req_install.py\", line 811, in install\n",
      "    success = install_legacy(\n",
      "  File \"C:\\Users\\vamsee\\AppData\\Roaming\\Python\\Python38\\site-packages\\pip\\_internal\\operations\\install\\legacy.py\", line 81, in install\n",
      "    raise LegacyInstallFailure\n",
      "pip._internal.operations.install.legacy.LegacyInstallFailure\n",
      "\n",
      "During handling of the above exception, another exception occurred:\n",
      "\n",
      "Traceback (most recent call last):\n",
      "  File \"C:\\Users\\vamsee\\AppData\\Roaming\\Python\\Python38\\site-packages\\pip\\_internal\\cli\\base_command.py\", line 180, in _main\n",
      "    status = self.run(options, args)\n",
      "  File \"C:\\Users\\vamsee\\AppData\\Roaming\\Python\\Python38\\site-packages\\pip\\_internal\\cli\\req_command.py\", line 205, in wrapper\n",
      "    return func(self, options, args)\n",
      "  File \"C:\\Users\\vamsee\\AppData\\Roaming\\Python\\Python38\\site-packages\\pip\\_internal\\commands\\install.py\", line 393, in run\n",
      "    installed = install_given_reqs(\n",
      "  File \"C:\\Users\\vamsee\\AppData\\Roaming\\Python\\Python38\\site-packages\\pip\\_internal\\req\\__init__.py\", line 77, in install_given_reqs\n",
      "    requirement.install(\n",
      "  File \"C:\\Users\\vamsee\\AppData\\Roaming\\Python\\Python38\\site-packages\\pip\\_internal\\req\\req_install.py\", line 829, in install\n",
      "    six.reraise(*exc.parent)\n",
      "  File \"C:\\Users\\vamsee\\AppData\\Roaming\\Python\\Python38\\site-packages\\pip\\_vendor\\six.py\", line 703, in reraise\n",
      "    raise value\n",
      "  File \"C:\\Users\\vamsee\\AppData\\Roaming\\Python\\Python38\\site-packages\\pip\\_internal\\operations\\install\\legacy.py\", line 69, in install\n",
      "    runner(\n",
      "  File \"C:\\Users\\vamsee\\AppData\\Roaming\\Python\\Python38\\site-packages\\pip\\_internal\\utils\\subprocess.py\", line 274, in runner\n",
      "    call_subprocess(\n",
      "  File \"C:\\Users\\vamsee\\AppData\\Roaming\\Python\\Python38\\site-packages\\pip\\_internal\\utils\\subprocess.py\", line 244, in call_subprocess\n",
      "    raise InstallationSubprocessError(proc.returncode, command_desc)\n",
      "pip._internal.exceptions.InstallationSubprocessError: Command errored out with exit status 1: 'C:\\Users\\vamsee\\anaconda3\\python.exe' -u -c 'import io, os, sys, setuptools, tokenize; sys.argv[0] = '\"'\"'C:\\\\Users\\\\vamsee\\\\AppData\\\\Local\\\\Temp\\\\pip-install-p2rmr5xp\\\\dlib_f486aac1b12e4bd4ada0e8ba3fd262ad\\\\setup.py'\"'\"'; __file__='\"'\"'C:\\\\Users\\\\vamsee\\\\AppData\\\\Local\\\\Temp\\\\pip-install-p2rmr5xp\\\\dlib_f486aac1b12e4bd4ada0e8ba3fd262ad\\\\setup.py'\"'\"';f = getattr(tokenize, '\"'\"'open'\"'\"', open)(__file__) if os.path.exists(__file__) else io.StringIO('\"'\"'from setuptools import setup; setup()'\"'\"');code = f.read().replace('\"'\"'\\r\\n'\"'\"', '\"'\"'\\n'\"'\"');f.close();exec(compile(code, __file__, '\"'\"'exec'\"'\"'))' install --record 'C:\\Users\\vamsee\\AppData\\Local\\Temp\\pip-record-hoet0bl9\\install-record.txt' --single-version-externally-managed --compile --install-headers 'C:\\Users\\vamsee\\anaconda3\\Include\\dlib' --no DLIB_USE_CUDA Check the logs for full command output.\n",
      "Removed build tracker: 'C:\\\\Users\\\\vamsee\\\\AppData\\\\Local\\\\Temp\\\\pip-req-tracker-nuxzi13z'\n"
     ]
    }
   ],
   "source": [
    "pip install -v --install-option=\"--no\" --install-option=\"DLIB_USE_CUDA\" dlib"
   ]
  },
  {
   "cell_type": "code",
   "execution_count": 7,
   "metadata": {},
   "outputs": [
    {
     "name": "stdout",
     "output_type": "stream",
     "text": [
      "Collecting cmake\n",
      "  Downloading cmake-3.22.1-py2.py3-none-win_amd64.whl (38.1 MB)\n",
      "Installing collected packages: cmake\n",
      "Successfully installed cmake-3.22.1\n",
      "Note: you may need to restart the kernel to use updated packages.\n"
     ]
    },
    {
     "name": "stderr",
     "output_type": "stream",
     "text": [
      "WARNING: Ignoring invalid distribution -illow (c:\\users\\vamsee\\anaconda3\\lib\\site-packages)\n",
      "WARNING: Ignoring invalid distribution -illow (c:\\users\\vamsee\\anaconda3\\lib\\site-packages)\n",
      "WARNING: Ignoring invalid distribution -illow (c:\\users\\vamsee\\anaconda3\\lib\\site-packages)\n",
      "WARNING: Ignoring invalid distribution -illow (c:\\users\\vamsee\\anaconda3\\lib\\site-packages)\n",
      "WARNING: Ignoring invalid distribution -illow (c:\\users\\vamsee\\anaconda3\\lib\\site-packages)\n",
      "WARNING: You are using pip version 21.1.3; however, version 21.3.1 is available.\n",
      "You should consider upgrading via the 'C:\\Users\\vamsee\\anaconda3\\python.exe -m pip install --upgrade pip' command.\n"
     ]
    }
   ],
   "source": [
    "pip install cmake"
   ]
  },
  {
   "cell_type": "code",
   "execution_count": 8,
   "metadata": {},
   "outputs": [
    {
     "name": "stdout",
     "output_type": "stream",
     "text": [
      "Collecting dlibNote: you may need to restart the kernel to use updated packages.\n",
      "\n",
      "  Using cached dlib-19.22.1.tar.gz (7.4 MB)\n",
      "Building wheels for collected packages: dlib\n",
      "  Building wheel for dlib (setup.py): started\n",
      "  Building wheel for dlib (setup.py): still running...\n",
      "  Building wheel for dlib (setup.py): still running...\n",
      "  Building wheel for dlib (setup.py): still running...\n",
      "  Building wheel for dlib (setup.py): still running...\n",
      "  Building wheel for dlib (setup.py): still running...\n",
      "  Building wheel for dlib (setup.py): still running...\n"
     ]
    },
    {
     "name": "stderr",
     "output_type": "stream",
     "text": [
      "WARNING: Ignoring invalid distribution -illow (c:\\users\\vamsee\\anaconda3\\lib\\site-packages)\n",
      "WARNING: Ignoring invalid distribution -illow (c:\\users\\vamsee\\anaconda3\\lib\\site-packages)\n",
      "WARNING: Ignoring invalid distribution -illow (c:\\users\\vamsee\\anaconda3\\lib\\site-packages)\n",
      "WARNING: Ignoring invalid distribution -illow (c:\\users\\vamsee\\anaconda3\\lib\\site-packages)\n",
      "WARNING: Ignoring invalid distribution -illow (c:\\users\\vamsee\\anaconda3\\lib\\site-packages)\n",
      "WARNING: You are using pip version 21.1.3; however, version 21.3.1 is available.\n",
      "You should consider upgrading via the 'C:\\Users\\vamsee\\anaconda3\\python.exe -m pip install --upgrade pip' command.\n"
     ]
    },
    {
     "name": "stdout",
     "output_type": "stream",
     "text": [
      "  Building wheel for dlib (setup.py): still running...\n",
      "  Building wheel for dlib (setup.py): finished with status 'done'\n",
      "  Created wheel for dlib: filename=dlib-19.22.1-cp38-cp38-win_amd64.whl size=2937148 sha256=4e74c4192d5511f57fe413160d2f9812005ab17822dd88ff6ec5f8a07fd282b8\n",
      "  Stored in directory: c:\\users\\vamsee\\appdata\\local\\pip\\cache\\wheels\\c3\\7d\\3d\\896cb44b682ef7c2c080d7d5d312ce8ba253aa4b03f858d398\n",
      "Successfully built dlib\n",
      "Installing collected packages: dlib\n",
      "Successfully installed dlib-19.22.1\n"
     ]
    }
   ],
   "source": [
    "pip install dlib"
   ]
  },
  {
   "cell_type": "code",
   "execution_count": 9,
   "metadata": {},
   "outputs": [
    {
     "name": "stdout",
     "output_type": "stream",
     "text": [
      "Collecting face-recognition\n",
      "  Using cached face_recognition-1.3.0-py2.py3-none-any.whl (15 kB)\n",
      "Requirement already satisfied: face-recognition-models>=0.3.0 in c:\\users\\vamsee\\anaconda3\\lib\\site-packages (from face-recognition) (0.3.0)\n",
      "Requirement already satisfied: Click>=6.0 in c:\\users\\vamsee\\anaconda3\\lib\\site-packages (from face-recognition) (7.1.2)\n",
      "Requirement already satisfied: Pillow in c:\\users\\vamsee\\anaconda3\\lib\\site-packages (from face-recognition) (8.3.1)\n",
      "Requirement already satisfied: dlib>=19.7 in c:\\users\\vamsee\\anaconda3\\lib\\site-packages (from face-recognition) (19.22.1)\n",
      "Requirement already satisfied: numpy in c:\\users\\vamsee\\anaconda3\\lib\\site-packages (from face-recognition) (1.19.5)\n",
      "Installing collected packages: face-recognition\n",
      "Successfully installed face-recognition-1.3.0\n",
      "Note: you may need to restart the kernel to use updated packages.\n"
     ]
    },
    {
     "name": "stderr",
     "output_type": "stream",
     "text": [
      "WARNING: Ignoring invalid distribution -illow (c:\\users\\vamsee\\anaconda3\\lib\\site-packages)\n",
      "WARNING: Ignoring invalid distribution -illow (c:\\users\\vamsee\\anaconda3\\lib\\site-packages)\n",
      "WARNING: Ignoring invalid distribution -illow (c:\\users\\vamsee\\anaconda3\\lib\\site-packages)\n",
      "WARNING: Ignoring invalid distribution -illow (c:\\users\\vamsee\\anaconda3\\lib\\site-packages)\n",
      "WARNING: Ignoring invalid distribution -illow (c:\\users\\vamsee\\anaconda3\\lib\\site-packages)\n",
      "WARNING: You are using pip version 21.1.3; however, version 21.3.1 is available.\n",
      "You should consider upgrading via the 'C:\\Users\\vamsee\\anaconda3\\python.exe -m pip install --upgrade pip' command.\n"
     ]
    }
   ],
   "source": [
    "pip install face-recognition"
   ]
  },
  {
   "cell_type": "code",
   "execution_count": 11,
   "metadata": {},
   "outputs": [],
   "source": [
    "import face_recognition"
   ]
  },
  {
   "cell_type": "code",
   "execution_count": 13,
   "metadata": {},
   "outputs": [
    {
     "name": "stdout",
     "output_type": "stream",
     "text": [
      "Requirement already satisfied: Pillow in c:\\users\\vamsee\\anaconda3\\lib\\site-packages (8.3.1)Note: you may need to restart the kernel to use updated packages.\n",
      "\n"
     ]
    },
    {
     "name": "stderr",
     "output_type": "stream",
     "text": [
      "WARNING: Ignoring invalid distribution -illow (c:\\users\\vamsee\\anaconda3\\lib\\site-packages)\n",
      "WARNING: Ignoring invalid distribution -illow (c:\\users\\vamsee\\anaconda3\\lib\\site-packages)\n",
      "WARNING: Ignoring invalid distribution -illow (c:\\users\\vamsee\\anaconda3\\lib\\site-packages)\n",
      "WARNING: Ignoring invalid distribution -illow (c:\\users\\vamsee\\anaconda3\\lib\\site-packages)\n",
      "WARNING: You are using pip version 21.1.3; however, version 21.3.1 is available.\n",
      "You should consider upgrading via the 'C:\\Users\\vamsee\\anaconda3\\python.exe -m pip install --upgrade pip' command.\n"
     ]
    }
   ],
   "source": [
    "pip install Pillow"
   ]
  },
  {
   "cell_type": "code",
   "execution_count": 14,
   "metadata": {},
   "outputs": [],
   "source": [
    "import PIL.Image\n",
    "import PIL.ImageDraw"
   ]
  },
  {
   "cell_type": "code",
   "execution_count": 48,
   "metadata": {},
   "outputs": [],
   "source": [
    "image = face_recognition.load_image_file(\"group.jpg\")\n",
    "## load the image file into a numpy array"
   ]
  },
  {
   "cell_type": "code",
   "execution_count": 49,
   "metadata": {},
   "outputs": [],
   "source": [
    "## find all face locations in the image\n",
    "face_locations = face_recognition.face_locations(image)"
   ]
  },
  {
   "cell_type": "code",
   "execution_count": 50,
   "metadata": {},
   "outputs": [
    {
     "name": "stdout",
     "output_type": "stream",
     "text": [
      "the total number of faces detected are 10\n"
     ]
    }
   ],
   "source": [
    "### now the total count of faces detected are\n",
    "total_faces = len(face_locations)\n",
    "print(\"the total number of faces detected are {}\".format(total_faces))"
   ]
  },
  {
   "cell_type": "code",
   "execution_count": 51,
   "metadata": {},
   "outputs": [],
   "source": [
    "### to draw the boxes on the detected faces, convert the image into PIL image format by using\n",
    "pilImage = PIL.Image.fromarray(image)"
   ]
  },
  {
   "cell_type": "code",
   "execution_count": 52,
   "metadata": {},
   "outputs": [
    {
     "name": "stdout",
     "output_type": "stream",
     "text": [
      "the image is detected at location 274,677,326,625\n",
      "the image is detected at location 294,418,357,356\n",
      "the image is detected at location 281,792,343,729\n",
      "the image is detected at location 308,957,370,895\n",
      "the image is detected at location 285,498,337,446\n",
      "the image is detected at location 260,1068,322,1006\n",
      "the image is detected at location 260,315,322,252\n",
      "the image is detected at location 329,204,391,142\n",
      "the image is detected at location 211,875,274,812\n",
      "the image is detected at location 294,605,357,543\n"
     ]
    }
   ],
   "source": [
    "for face_loc in face_locations:\n",
    "    \n",
    "    top, right, bottom , left = face_loc\n",
    "    \n",
    "    print(\"the image is detected at location {},{},{},{}\".format(top, right, bottom, left))\n",
    "    \n",
    "    draw = PIL.ImageDraw.Draw(pilImage)\n",
    "    draw.rectangle([ left,top, right, bottom], outline = \"red\")\n",
    "\n",
    "pilImage.show()"
   ]
  },
  {
   "cell_type": "markdown",
   "metadata": {},
   "source": [
    "## face landmark detection"
   ]
  },
  {
   "cell_type": "code",
   "execution_count": 53,
   "metadata": {},
   "outputs": [],
   "source": [
    "image = face_recognition.load_image_file(\"group.jpg\")"
   ]
  },
  {
   "cell_type": "code",
   "execution_count": 54,
   "metadata": {},
   "outputs": [],
   "source": [
    "## detect face landmarks\n",
    "face_landmarks = face_recognition.face_landmarks(image)\n",
    "### the result is the list of dictionaries having the name of the location and coordinates"
   ]
  },
  {
   "cell_type": "code",
   "execution_count": 55,
   "metadata": {},
   "outputs": [
    {
     "name": "stdout",
     "output_type": "stream",
     "text": [
      "the total num of faces detacted are 10\n"
     ]
    }
   ],
   "source": [
    "print(\"the total num of faces detacted are {}\".format(len(face_landmarks)))"
   ]
  },
  {
   "cell_type": "code",
   "execution_count": 56,
   "metadata": {},
   "outputs": [],
   "source": [
    "pilImage2 = PIL.Image.fromarray(image)"
   ]
  },
  {
   "cell_type": "code",
   "execution_count": 57,
   "metadata": {},
   "outputs": [],
   "source": [
    "draw = PIL.ImageDraw.Draw(pilImage2)"
   ]
  },
  {
   "cell_type": "code",
   "execution_count": 58,
   "metadata": {},
   "outputs": [
    {
     "name": "stdout",
     "output_type": "stream",
     "text": [
      "the chin at location [(626, 289), (627, 296), (628, 302), (630, 309), (631, 315), (634, 321), (639, 325), (646, 328), (652, 330), (659, 329), (664, 325), (668, 321), (672, 316), (673, 310), (674, 304), (675, 298), (675, 291)]\n",
      "the left_eyebrow at location [(633, 286), (636, 284), (640, 283), (644, 283), (648, 285)]\n",
      "the right_eyebrow at location [(657, 285), (661, 284), (665, 284), (668, 285), (671, 287)]\n",
      "the nose_bridge at location [(653, 289), (653, 294), (653, 298), (653, 303)]\n",
      "the nose_tip at location [(647, 305), (650, 306), (652, 307), (655, 306), (657, 305)]\n",
      "the left_eye at location [(638, 290), (640, 288), (643, 288), (646, 290), (643, 290), (640, 290)]\n",
      "the right_eye at location [(659, 291), (661, 289), (664, 289), (666, 291), (664, 291), (661, 291)]\n",
      "the top_lip at location [(640, 311), (644, 309), (649, 309), (652, 309), (656, 309), (660, 309), (663, 311), (662, 311), (656, 310), (652, 311), (649, 310), (642, 311)]\n",
      "the bottom_lip at location [(663, 311), (660, 316), (656, 318), (652, 319), (649, 318), (644, 316), (640, 311), (642, 311), (649, 315), (652, 316), (656, 315), (662, 311)]\n",
      "the chin at location [(355, 314), (355, 322), (355, 331), (356, 339), (359, 346), (364, 352), (371, 357), (379, 360), (388, 362), (396, 361), (403, 357), (409, 352), (412, 346), (414, 339), (415, 331), (416, 324), (416, 317)]\n",
      "the left_eyebrow at location [(367, 306), (371, 303), (376, 303), (381, 304), (386, 307)]\n",
      "the right_eyebrow at location [(395, 308), (400, 306), (404, 306), (409, 307), (412, 310)]\n",
      "the nose_bridge at location [(390, 313), (390, 317), (390, 322), (390, 326)]\n",
      "the nose_tip at location [(383, 330), (386, 331), (389, 332), (392, 331), (395, 331)]\n",
      "the left_eye at location [(373, 313), (376, 312), (379, 312), (382, 314), (379, 314), (376, 314)]\n",
      "the right_eye at location [(397, 316), (400, 315), (403, 315), (406, 317), (403, 317), (400, 317)]\n",
      "the top_lip at location [(373, 337), (379, 335), (385, 335), (389, 336), (393, 335), (398, 336), (402, 339), (400, 339), (392, 338), (388, 337), (385, 337), (374, 337)]\n",
      "the bottom_lip at location [(402, 339), (397, 344), (392, 346), (388, 346), (384, 345), (378, 342), (373, 337), (374, 337), (384, 342), (388, 343), (392, 343), (400, 339)]\n",
      "the chin at location [(732, 301), (732, 308), (732, 316), (733, 323), (736, 331), (740, 337), (746, 342), (754, 346), (763, 347), (772, 346), (781, 342), (787, 337), (792, 331), (794, 323), (796, 315), (797, 307), (797, 299)]\n",
      "the left_eyebrow at location [(735, 295), (739, 292), (744, 291), (750, 292), (755, 294)]\n",
      "the right_eyebrow at location [(765, 292), (771, 290), (777, 289), (783, 290), (788, 293)]\n",
      "the nose_bridge at location [(760, 297), (760, 302), (760, 307), (759, 313)]\n",
      "the nose_tip at location [(754, 316), (757, 317), (760, 318), (763, 317), (767, 316)]\n",
      "the left_eye at location [(741, 300), (744, 298), (748, 298), (752, 300), (748, 300), (744, 300)]\n",
      "the right_eye at location [(771, 299), (774, 297), (778, 297), (781, 298), (778, 299), (774, 299)]\n",
      "the top_lip at location [(747, 324), (752, 322), (756, 321), (760, 321), (765, 321), (771, 321), (777, 323), (775, 323), (765, 323), (761, 323), (757, 323), (749, 324)]\n",
      "the bottom_lip at location [(777, 323), (772, 329), (766, 331), (761, 332), (757, 331), (752, 329), (747, 324), (749, 324), (757, 328), (761, 328), (765, 328), (775, 323)]\n",
      "the chin at location [(903, 334), (903, 340), (904, 347), (905, 354), (908, 361), (911, 367), (916, 372), (922, 376), (929, 377), (936, 375), (944, 371), (951, 366), (957, 360), (961, 352), (962, 344), (963, 335), (963, 326)]\n",
      "the left_eyebrow at location [(902, 327), (904, 324), (908, 323), (913, 323), (918, 323)]\n",
      "the right_eyebrow at location [(928, 322), (933, 319), (939, 317), (946, 317), (951, 321)]\n",
      "the nose_bridge at location [(923, 328), (923, 333), (923, 337), (923, 342)]\n",
      "the nose_tip at location [(920, 347), (922, 347), (925, 348), (928, 347), (931, 346)]\n",
      "the left_eye at location [(908, 332), (911, 330), (914, 329), (918, 331), (914, 331), (911, 332)]\n",
      "the right_eye at location [(933, 328), (937, 326), (940, 325), (944, 326), (941, 327), (937, 328)]\n",
      "the top_lip at location [(915, 355), (918, 353), (922, 352), (926, 352), (930, 351), (936, 351), (943, 352), (941, 352), (930, 353), (926, 354), (923, 354), (917, 355)]\n",
      "the bottom_lip at location [(943, 352), (937, 357), (932, 361), (927, 362), (924, 362), (919, 360), (915, 355), (917, 355), (923, 358), (927, 358), (931, 357), (941, 352)]\n",
      "the chin at location [(445, 295), (446, 302), (446, 309), (447, 316), (450, 322), (454, 328), (459, 332), (465, 336), (472, 338), (478, 336), (483, 332), (488, 327), (492, 322), (494, 316), (495, 310), (496, 304), (496, 297)]\n",
      "the left_eyebrow at location [(451, 295), (455, 292), (460, 291), (465, 293), (470, 295)]\n",
      "the right_eyebrow at location [(477, 295), (482, 293), (486, 292), (491, 293), (493, 296)]\n",
      "the nose_bridge at location [(474, 298), (474, 302), (474, 307), (474, 312)]\n",
      "the nose_tip at location [(467, 312), (470, 314), (473, 315), (476, 314), (479, 313)]\n",
      "the left_eye at location [(457, 298), (460, 297), (463, 297), (466, 299), (463, 299), (460, 299)]\n",
      "the right_eye at location [(479, 299), (482, 298), (486, 298), (488, 299), (485, 300), (482, 300)]\n",
      "the top_lip at location [(460, 318), (465, 318), (470, 319), (473, 319), (476, 319), (479, 319), (483, 318), (482, 319), (476, 320), (473, 321), (470, 320), (462, 319)]\n",
      "the bottom_lip at location [(483, 318), (479, 321), (476, 323), (472, 323), (469, 323), (465, 321), (460, 318), (462, 319), (469, 320), (473, 321), (476, 320), (482, 319)]\n",
      "the chin at location [(1006, 279), (1007, 286), (1007, 293), (1008, 300), (1010, 307), (1014, 313), (1019, 318), (1026, 322), (1034, 323), (1042, 321), (1049, 318), (1055, 313), (1059, 307), (1062, 300), (1062, 293), (1063, 286), (1063, 279)]\n",
      "the left_eyebrow at location [(1012, 275), (1015, 272), (1020, 270), (1025, 270), (1029, 271)]\n",
      "the right_eyebrow at location [(1038, 271), (1043, 269), (1048, 269), (1052, 271), (1056, 274)]\n",
      "the nose_bridge at location [(1033, 276), (1033, 282), (1033, 287), (1033, 292)]\n",
      "the nose_tip at location [(1028, 294), (1030, 295), (1033, 296), (1036, 295), (1039, 294)]\n",
      "the left_eye at location [(1017, 279), (1020, 277), (1024, 277), (1027, 279), (1023, 280), (1020, 280)]\n",
      "the right_eye at location [(1041, 279), (1044, 277), (1047, 276), (1050, 278), (1047, 279), (1044, 279)]\n",
      "the top_lip at location [(1020, 301), (1024, 299), (1029, 298), (1033, 299), (1038, 298), (1042, 298), (1047, 300), (1046, 300), (1038, 300), (1033, 300), (1029, 300), (1022, 301)]\n",
      "the bottom_lip at location [(1047, 300), (1043, 305), (1038, 308), (1034, 308), (1029, 308), (1024, 306), (1020, 301), (1022, 301), (1029, 305), (1034, 306), (1038, 305), (1046, 300)]\n",
      "the chin at location [(253, 279), (253, 286), (253, 293), (253, 300), (255, 306), (260, 311), (267, 315), (275, 318), (283, 319), (290, 319), (297, 316), (303, 312), (308, 307), (310, 301), (311, 295), (311, 289), (312, 283)]\n",
      "the left_eyebrow at location [(260, 277), (264, 273), (270, 272), (276, 273), (281, 275)]\n",
      "the right_eyebrow at location [(288, 276), (294, 274), (300, 274), (305, 276), (308, 280)]\n",
      "the nose_bridge at location [(285, 279), (284, 282), (284, 286), (284, 289)]\n",
      "the nose_tip at location [(278, 293), (281, 293), (284, 294), (287, 294), (290, 293)]\n",
      "the left_eye at location [(266, 279), (270, 279), (273, 279), (276, 280), (273, 280), (270, 280)]\n",
      "the right_eye at location [(292, 281), (295, 280), (298, 281), (301, 282), (298, 282), (295, 282)]\n",
      "the top_lip at location [(271, 300), (276, 299), (280, 298), (283, 299), (287, 298), (291, 299), (295, 301), (293, 301), (287, 300), (283, 300), (280, 299), (273, 300)]\n",
      "the bottom_lip at location [(295, 301), (291, 304), (287, 304), (283, 304), (280, 304), (276, 303), (271, 300), (273, 300), (280, 301), (283, 301), (287, 301), (293, 301)]\n",
      "the chin at location [(143, 350), (143, 357), (144, 364), (146, 372), (149, 378), (155, 384), (161, 389), (169, 393), (177, 394), (184, 392), (190, 388), (194, 382), (197, 376), (198, 369), (199, 362), (199, 355), (198, 348)]\n",
      "the left_eyebrow at location [(150, 344), (153, 341), (158, 340), (163, 340), (168, 342)]\n",
      "the right_eyebrow at location [(177, 341), (182, 339), (186, 339), (191, 340), (194, 343)]\n",
      "the nose_bridge at location [(174, 347), (174, 352), (175, 358), (175, 363)]\n",
      "the nose_tip at location [(168, 365), (172, 366), (175, 367), (178, 366), (181, 365)]\n",
      "the left_eye at location [(156, 348), (159, 347), (162, 347), (165, 348), (162, 348), (159, 349)]\n",
      "the right_eye at location [(180, 348), (183, 346), (186, 346), (189, 347), (186, 348), (183, 348)]\n",
      "the top_lip at location [(161, 372), (166, 371), (171, 371), (175, 371), (179, 370), (184, 370), (188, 371), (186, 371), (179, 372), (175, 373), (172, 372), (163, 373)]\n",
      "the bottom_lip at location [(188, 371), (185, 378), (180, 381), (176, 382), (172, 381), (166, 378), (161, 372), (163, 373), (172, 377), (176, 378), (180, 377), (186, 371)]\n",
      "the chin at location [(817, 231), (817, 238), (818, 244), (818, 251), (820, 257), (824, 262), (830, 266), (838, 269), (846, 269), (854, 269), (862, 267), (867, 264), (871, 259), (873, 252), (874, 246), (875, 240), (876, 233)]\n",
      "the left_eyebrow at location [(823, 224), (827, 221), (832, 220), (837, 220), (842, 222)]\n",
      "the right_eyebrow at location [(851, 222), (856, 221), (861, 221), (866, 222), (870, 226)]\n",
      "the nose_bridge at location [(847, 226), (847, 230), (846, 234), (846, 238)]\n",
      "the nose_tip at location [(840, 242), (843, 242), (846, 243), (850, 242), (853, 242)]\n",
      "the left_eye at location [(829, 229), (832, 228), (835, 228), (839, 229), (835, 230), (832, 230)]\n",
      "the right_eye at location [(854, 230), (857, 229), (861, 229), (864, 231), (860, 231), (857, 230)]\n",
      "the top_lip at location [(832, 249), (837, 247), (842, 246), (846, 247), (851, 246), (856, 247), (861, 250), (860, 250), (851, 248), (846, 249), (842, 248), (833, 249)]\n",
      "the bottom_lip at location [(861, 250), (856, 254), (851, 255), (846, 256), (842, 255), (836, 253), (832, 249), (833, 249), (842, 252), (846, 253), (851, 253), (860, 250)]\n",
      "the chin at location [(554, 315), (553, 321), (552, 328), (553, 335), (554, 342), (557, 348), (561, 353), (567, 357), (573, 359), (581, 359), (588, 357), (595, 353), (601, 348), (604, 341), (606, 334), (608, 326), (608, 318)]\n",
      "the left_eyebrow at location [(556, 309), (559, 306), (563, 305), (568, 306), (572, 308)]\n",
      "the right_eyebrow at location [(581, 308), (586, 307), (592, 307), (597, 309), (601, 313)]\n",
      "the nose_bridge at location [(576, 313), (575, 318), (575, 323), (574, 328)]\n",
      "the nose_tip at location [(569, 329), (571, 331), (574, 332), (578, 331), (581, 330)]\n",
      "the left_eye at location [(560, 313), (563, 312), (567, 312), (569, 314), (566, 314), (563, 314)]\n",
      "the right_eye at location [(585, 315), (588, 313), (592, 313), (594, 315), (591, 316), (588, 316)]\n",
      "the top_lip at location [(563, 337), (567, 335), (571, 335), (575, 336), (579, 335), (584, 336), (589, 338), (588, 338), (578, 337), (575, 337), (571, 337), (564, 337)]\n",
      "the bottom_lip at location [(589, 338), (584, 342), (578, 344), (574, 344), (571, 344), (567, 342), (563, 337), (564, 337), (571, 341), (575, 341), (579, 341), (588, 338)]\n"
     ]
    }
   ],
   "source": [
    "## create PIL object to draw the landmarks on the face\n",
    "for face_landmark in face_landmarks:\n",
    "    \n",
    "    for name, location in face_landmark.items():\n",
    "        \n",
    "        print(\"the {} at location {}\".format(name, location))\n",
    "        \n",
    "        draw.line(location, fill=\"green\", width=2)\n",
    "       \n",
    "\n",
    "pilImage2.show()"
   ]
  },
  {
   "cell_type": "markdown",
   "metadata": {},
   "source": [
    "## face encoding system for facial recongnition "
   ]
  },
  {
   "cell_type": "code",
   "execution_count": 67,
   "metadata": {},
   "outputs": [],
   "source": [
    "image = face_recognition.load_image_file(\"ange.jpg\")"
   ]
  },
  {
   "cell_type": "code",
   "execution_count": 68,
   "metadata": {},
   "outputs": [],
   "source": [
    "face_encodings = face_recognition.face_encodings(image)"
   ]
  },
  {
   "cell_type": "code",
   "execution_count": 71,
   "metadata": {},
   "outputs": [
    {
     "name": "stdout",
     "output_type": "stream",
     "text": [
      "[-0.16440149  0.06413645  0.17442544 -0.09689242 -0.14837909 -0.04124061\n",
      " -0.08240802 -0.08777212  0.19438761 -0.22848891  0.17831269 -0.02833153\n",
      " -0.32066506  0.04783043 -0.02933601  0.17666234 -0.2086079  -0.1882107\n",
      " -0.05447677 -0.12439252  0.07322213  0.0486037  -0.06544131  0.06985971\n",
      " -0.16704726 -0.40379697 -0.13629632  0.03691236 -0.03460098 -0.09967533\n",
      "  0.01733546  0.12080187 -0.16053128  0.00539511 -0.01399792  0.17666118\n",
      " -0.04826746 -0.17299129  0.10384621  0.02156052 -0.25016344 -0.08129979\n",
      "  0.14687663  0.30815279  0.22667423 -0.01138441  0.01100517 -0.04501516\n",
      "  0.14046711 -0.35419294  0.07344569  0.22026578  0.04384859  0.16425851\n",
      "  0.13779178 -0.26833588  0.03857397  0.05592103 -0.13537194  0.01024436\n",
      "  0.08472754 -0.15424851  0.03742488 -0.08856733  0.21497688  0.14275944\n",
      " -0.15252505 -0.11796748  0.23994696 -0.1399696  -0.02536638  0.03814506\n",
      " -0.22948749 -0.18428978 -0.32210758  0.0520568   0.39853454  0.15989448\n",
      " -0.06677608  0.06444366 -0.03272251 -0.00659472 -0.0068556   0.24163346\n",
      "  0.01482593  0.01475612 -0.07374471  0.20130302  0.15262967 -0.01359483\n",
      " -0.03187647  0.2537671   0.0281695  -0.00183452  0.05717172  0.13896985\n",
      " -0.17553461 -0.02239994 -0.1917899   0.04445115  0.02724843 -0.01310231\n",
      " -0.0186799   0.13360392 -0.07877417  0.20090893  0.02912483 -0.01242476\n",
      " -0.08974096 -0.06462826 -0.09256613 -0.01211189  0.10720689 -0.2343637\n",
      "  0.16973978  0.16526768  0.03528244  0.2133885   0.03271446  0.09435515\n",
      "  0.03394848 -0.12343961 -0.12039711 -0.04102214 -0.02625322 -0.02188333\n",
      " -0.02165769  0.07108736]\n"
     ]
    }
   ],
   "source": [
    "if len(face_encodings)==0:\n",
    "    print(\"no faces are detected\")\n",
    "\n",
    "else:\n",
    "    print(face_encodings[0])\n"
   ]
  },
  {
   "cell_type": "markdown",
   "metadata": {},
   "source": [
    "### exercise 1"
   ]
  },
  {
   "cell_type": "code",
   "execution_count": 148,
   "metadata": {},
   "outputs": [],
   "source": [
    "image1 = face_recognition.load_image_file(\"sam1.jpg\")\n",
    "image2 = face_recognition.load_image_file(\"AA.jpg\")\n",
    "image3 = face_recognition.load_image_file(\"ange.jpg\")"
   ]
  },
  {
   "cell_type": "code",
   "execution_count": 149,
   "metadata": {},
   "outputs": [],
   "source": [
    "face_encoding_img1 = face_recognition.face_encodings(image1)[0]\n",
    "face_encoding_img2 = face_recognition.face_encodings(image2)[0]\n",
    "face_encoding_img3 = face_recognition.face_encodings(image3)[0]"
   ]
  },
  {
   "cell_type": "code",
   "execution_count": 150,
   "metadata": {},
   "outputs": [],
   "source": [
    "list_of_encodings = [face_encoding_img1, face_encoding_img2, face_encoding_img3]"
   ]
  },
  {
   "cell_type": "code",
   "execution_count": 168,
   "metadata": {},
   "outputs": [],
   "source": [
    "new_image = face_recognition.load_image_file(\"AA_sam.jpg\")"
   ]
  },
  {
   "cell_type": "code",
   "execution_count": 169,
   "metadata": {},
   "outputs": [],
   "source": [
    "new_img_face_encoding = face_recognition.face_encodings(new_image)"
   ]
  },
  {
   "cell_type": "code",
   "execution_count": 170,
   "metadata": {},
   "outputs": [
    {
     "data": {
      "text/plain": [
       "2"
      ]
     },
     "execution_count": 170,
     "metadata": {},
     "output_type": "execute_result"
    }
   ],
   "source": [
    "len(new_img_face_encoding)"
   ]
  },
  {
   "cell_type": "code",
   "execution_count": 171,
   "metadata": {},
   "outputs": [
    {
     "name": "stdout",
     "output_type": "stream",
     "text": [
      "the face is identified as sam\n",
      "the face is identified as AA\n"
     ]
    }
   ],
   "source": [
    "for encodings in new_img_face_encoding:\n",
    "    \n",
    "    name =\"empty\"\n",
    "    \n",
    "    result = face_recognition.api.compare_faces(list_of_encodings, encodings, tolerance=0.6)\n",
    "    \n",
    "    if result[0]:\n",
    "        print(\"the face is identified as sam\")\n",
    "    elif result[1]:\n",
    "        print(\"the face is identified as AA\")\n",
    "    elif  result[2]:\n",
    "        print(\"the face is identified as Ange\")\n",
    "    "
   ]
  },
  {
   "cell_type": "code",
   "execution_count": 155,
   "metadata": {},
   "outputs": [
    {
     "name": "stdout",
     "output_type": "stream",
     "text": [
      "False\n"
     ]
    }
   ],
   "source": [
    "print(result[0])"
   ]
  },
  {
   "cell_type": "code",
   "execution_count": 172,
   "metadata": {},
   "outputs": [
    {
     "data": {
      "text/plain": [
       "[False, True, False]"
      ]
     },
     "execution_count": 172,
     "metadata": {},
     "output_type": "execute_result"
    }
   ],
   "source": [
    "result"
   ]
  },
  {
   "cell_type": "code",
   "execution_count": null,
   "metadata": {},
   "outputs": [],
   "source": []
  }
 ],
 "metadata": {
  "kernelspec": {
   "display_name": "Python 3",
   "language": "python",
   "name": "python3"
  },
  "language_info": {
   "codemirror_mode": {
    "name": "ipython",
    "version": 3
   },
   "file_extension": ".py",
   "mimetype": "text/x-python",
   "name": "python",
   "nbconvert_exporter": "python",
   "pygments_lexer": "ipython3",
   "version": "3.8.5"
  }
 },
 "nbformat": 4,
 "nbformat_minor": 4
}
